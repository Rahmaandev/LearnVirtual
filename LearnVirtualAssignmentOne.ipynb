{
 "cells": [
  {
   "cell_type": "markdown",
   "metadata": {},
   "source": [
    "# Solution To Assignment 1"
   ]
  },
  {
   "cell_type": "markdown",
   "metadata": {},
   "source": [
    "## 1. Area of a Circle"
   ]
  },
  {
   "cell_type": "code",
   "execution_count": null,
   "metadata": {},
   "outputs": [],
   "source": [
    "from math import pi\n",
    "r = int(input('Pls. Enter radius of the Circle: '))\n",
    "A = pi*(r**2)\n",
    "Ar = round(A,3)\n",
    "print(\" \")\n",
    "print('The Area of your Circle is', Ar)"
   ]
  },
  {
   "cell_type": "markdown",
   "metadata": {},
   "source": [
    "## 2. Simple Interest"
   ]
  },
  {
   "cell_type": "code",
   "execution_count": null,
   "metadata": {},
   "outputs": [],
   "source": [
    "p = int(input('Pls. Enter Principal:'))\n",
    "t = int(input('Pls. Enter Time: '))\n",
    "ra = int(input('Pls. Enter Rate: '))\n",
    "si = (p*t*ra)/100\n",
    "print(\" \")\n",
    "print('Simple Interest =',si)"
   ]
  },
  {
   "cell_type": "markdown",
   "metadata": {},
   "source": [
    "## 3. Daily Schedule"
   ]
  },
  {
   "cell_type": "code",
   "execution_count": null,
   "metadata": {},
   "outputs": [],
   "source": [
    "wkday = ['mon','tue','wed','thu','fri']\n",
    "wkend = ['sat','sun']\n",
    "day = input('What day is it: ')\n",
    "if day.lower() == 'fri':\n",
    "    print('Prepare for Jumuah Prayer. Its',day)\n",
    "elif day.lower() == 'mon':\n",
    "    dd = input('Is it the 1st weeek of the month? (y/n):')\n",
    "    if dd.lower() == 'y':\n",
    "        print('Pick necessary document for Staff Meeting')\n",
    "    elif dd.lower() == 'n':\n",
    "        print('There will be no Staff Meeting Today')\n",
    "    else:\n",
    "        print('Check your Selection')\n",
    "elif day.lower() in wkday:\n",
    "    print('Get ready for normal work')\n",
    "elif day.lower() in wkend:\n",
    "    print(\"Check SkySport News for today's EPL features\")\n",
    "    print('Up Eyimba')\n",
    "else:\n",
    "    print('Pls. Check your Selection. \\n \\nThanks.')"
   ]
  },
  {
   "cell_type": "markdown",
   "metadata": {},
   "source": [
    "## 4. ATM Program"
   ]
  },
  {
   "cell_type": "code",
   "execution_count": null,
   "metadata": {},
   "outputs": [],
   "source": [
    "print('Welcome to LearnVitual Microfinance Bank! \\nPlease, Protect your PIN!!! \\n \\nSlot in your Card and Type your correct PIN')\n",
    "pn = input('Pls. Enter Your Correct PIN: \\n' )\n",
    "sl = input('Dear Customer, What will you like to do? \\n(a) Check Account Balance \\n(b) Withdrawal \\n(c) Transfer Money \\n(d) Exit \\n' )\n",
    "if sl.lower() == 'a':\n",
    "    v = input('Pls. Select Account Type \\n \\n(a)Current \\n(b)Savings \\n')\n",
    "    print('Loading .... \\n \\nOops! Service Not Available. \\n \\nPls. Check back Later. \\n')\n",
    "elif sl.lower() == 'b':\n",
    "    am = input('Pls. Enter Amount to withdraw \\n')\n",
    "    print('Withdrawal Successful! \\n \\nPls. Collect Your Cash. \\n \\nYour New Account Balance is ..... \\n \\nOops! No Network \\n')\n",
    "elif sl.lower() == 'c':\n",
    "    dbnk = input('Pls. Type in Destintation Bank: \\n')\n",
    "    dact = input('Pls. Type in Destination Account Number \\n')\n",
    "    damt = input('How much will you like to transfer: \\n')\n",
    "    print('Transfer Successful! \\n \\nYour New Account Balance is ..... \\n \\nOops! No Network \\n')\n",
    "elif sl.lower() == 'd':\n",
    "    print('Bye Bye! \\n')\n",
    "else:\n",
    "    print('Pls. Check your Selection \\n')\n",
    "\n",
    "print('Thank You For Banking with Us! \\n \\nPlease Stay Safe \\nCovid-19 is Real')\n",
    "    \n",
    "    \n",
    "    \n",
    "\n"
   ]
  },
  {
   "cell_type": "code",
   "execution_count": null,
   "metadata": {},
   "outputs": [],
   "source": []
  }
 ],
 "metadata": {
  "kernelspec": {
   "display_name": "Python 3",
   "language": "python",
   "name": "python3"
  },
  "language_info": {
   "codemirror_mode": {
    "name": "ipython",
    "version": 3
   },
   "file_extension": ".py",
   "mimetype": "text/x-python",
   "name": "python",
   "nbconvert_exporter": "python",
   "pygments_lexer": "ipython3",
   "version": "3.7.6"
  }
 },
 "nbformat": 4,
 "nbformat_minor": 4
}
