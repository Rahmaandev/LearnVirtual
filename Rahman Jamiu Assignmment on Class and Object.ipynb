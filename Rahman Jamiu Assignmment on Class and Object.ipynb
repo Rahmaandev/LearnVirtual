{
 "cells": [
  {
   "cell_type": "markdown",
   "metadata": {},
   "source": [
    "## No 1"
   ]
  },
  {
   "cell_type": "code",
   "execution_count": null,
   "metadata": {},
   "outputs": [],
   "source": [
    "class planets():\n",
    "    \n",
    "    def __init__ (self,name,distance_from_sun,planet_gravity):\n",
    "        self.name = name\n",
    "        self.distance_from_sun = distance_from_sun\n",
    "        self.planet_gravity = planet_gravity\n",
    "        \n",
    "    def planet_info(self):\n",
    "        print(f\"This is {self.name}, with a distance of {self.distance_from_sun} from the sun. \\nIts gravity is {self.planet_gravity}\")"
   ]
  },
  {
   "cell_type": "code",
   "execution_count": null,
   "metadata": {},
   "outputs": [],
   "source": [
    "planet1 = planets('Mercury',435000,87.7)\n",
    "planet2 = planets('Venus',765421,65.5)"
   ]
  },
  {
   "cell_type": "code",
   "execution_count": null,
   "metadata": {},
   "outputs": [],
   "source": [
    "planet1.planet_info()"
   ]
  },
  {
   "cell_type": "markdown",
   "metadata": {},
   "source": [
    "## No 2"
   ]
  },
  {
   "cell_type": "code",
   "execution_count": null,
   "metadata": {},
   "outputs": [],
   "source": [
    "class BankCustomer():\n",
    "    \n",
    "    def __init__ (self,FirstName,LastName):\n",
    "        self.FirstName = FirstName\n",
    "        self.LastName = LastName\n",
    "        \n",
    "    def CustomerInfo(self):\n",
    "        print(f\"{self.FirstName} {self.LastName}\")\n",
    "        \n",
    "class BankAccount():\n",
    "    def __init__ (self,account,balance):\n",
    "        self.account = account\n",
    "        self.balance = balance\n",
    "        \n",
    "    def AccountInfo(self):\n",
    "        print(f\"Dear {self.account}, \\nYour Account Balance is {self.balance}.\")\n",
    "        \n",
    "    "
   ]
  },
  {
   "cell_type": "code",
   "execution_count": null,
   "metadata": {},
   "outputs": [],
   "source": [
    "customer1 =BankCustomer('Jeff','Evans')"
   ]
  },
  {
   "cell_type": "code",
   "execution_count": null,
   "metadata": {},
   "outputs": [],
   "source": [
    "account1 = BankAccount(customer1.CustomerInfo(),1000000)\n",
    "account2 = BankAccount(customer1.CustomerInfo(),2000000)"
   ]
  },
  {
   "cell_type": "code",
   "execution_count": null,
   "metadata": {},
   "outputs": [],
   "source": [
    "account1.AccountInfo()"
   ]
  },
  {
   "cell_type": "code",
   "execution_count": null,
   "metadata": {},
   "outputs": [],
   "source": []
  }
 ],
 "metadata": {
  "kernelspec": {
   "display_name": "Python 3",
   "language": "python",
   "name": "python3"
  },
  "language_info": {
   "codemirror_mode": {
    "name": "ipython",
    "version": 3
   },
   "file_extension": ".py",
   "mimetype": "text/x-python",
   "name": "python",
   "nbconvert_exporter": "python",
   "pygments_lexer": "ipython3",
   "version": "3.7.6"
  }
 },
 "nbformat": 4,
 "nbformat_minor": 4
}
